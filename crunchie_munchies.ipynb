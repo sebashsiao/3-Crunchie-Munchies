{
 "cells": [
  {
   "cell_type": "markdown",
   "source": [
    "# CrunchieMunchies\n",
    "#### ANALYZE DATA WITH PYTHON\n",
    "##### Codecademy\n",
    "\n",
    "You work in marketing for a food company YummyCorps, which is developing a new kind of tasty, wholesome cereal called CrunchieMunchies. You want to demonstrate to consumers how healthy your cereal is in comparison to other leading brands, so you’ve dug up nutritional data on several different competitors.\n",
    "\n",
    "Your task is to use NumPy statistical calculations to analyze this data and prove that your CrunchieMunchies cereal is the healthiest choice for consumers.\n"
   ],
   "metadata": {
    "collapsed": false
   },
   "id": "44171dd482e041b2"
  },
  {
   "cell_type": "code",
   "execution_count": 1,
   "outputs": [],
   "source": [
    "import numpy as np\n"
   ],
   "metadata": {
    "collapsed": false,
    "ExecuteTime": {
     "end_time": "2023-12-15T21:21:01.874142Z",
     "start_time": "2023-12-15T21:21:01.529110Z"
    }
   },
   "id": "b56c41735ac169d2"
  },
  {
   "cell_type": "markdown",
   "source": [
    "Look over the cereal.csv file. This file contains the reported calorie amounts for different cereal brands. Load the data from the file and save it as calorie_stats."
   ],
   "metadata": {
    "collapsed": false
   },
   "id": "8bc6de2dbee479c6"
  },
  {
   "cell_type": "code",
   "execution_count": 2,
   "id": "initial_id",
   "metadata": {
    "collapsed": true,
    "ExecuteTime": {
     "end_time": "2023-12-15T21:21:01.958866Z",
     "start_time": "2023-12-15T21:21:01.886939Z"
    }
   },
   "outputs": [
    {
     "name": "stdout",
     "output_type": "stream",
     "text": [
      "77\n",
      "[ 70. 120.  70.  50. 110. 110. 110. 130.  90.  90. 120. 110. 120. 110.\n",
      " 110. 110. 100. 110. 110. 110. 100. 110. 100. 100. 110. 110. 100. 120.\n",
      " 120. 110. 100. 110. 100. 110. 120. 120. 110. 110. 110. 140. 110. 100.\n",
      " 110. 100. 150. 150. 160. 100. 120. 140.  90. 130. 120. 100.  50.  50.\n",
      " 100. 100. 120. 100.  90. 110. 110.  80.  90.  90. 110. 110.  90. 110.\n",
      " 140. 100. 110. 110. 100. 100. 110.]\n"
     ]
    }
   ],
   "source": [
    "# generate array from csv file\n",
    "calorie_stats = np.genfromtxt('cereal.csv', delimiter=',')\n",
    "\n",
    "print(calorie_stats.size)\n",
    "print(calorie_stats)"
   ]
  },
  {
   "cell_type": "markdown",
   "source": [
    "There are 60 calories per serving of CrunchieMunchies. How much higher is the average calorie count of your competition?\n",
    "\n",
    "Save the answer to the variable average_calories and print the variable to the terminal to see the answer."
   ],
   "metadata": {
    "collapsed": false
   },
   "id": "7b74f4a70884f3b4"
  },
  {
   "cell_type": "code",
   "execution_count": 3,
   "outputs": [
    {
     "name": "stdout",
     "output_type": "stream",
     "text": [
      "106.88311688311688\n"
     ]
    }
   ],
   "source": [
    "average_calories = np.mean(calorie_stats)\n",
    "print(average_calories)"
   ],
   "metadata": {
    "collapsed": false,
    "ExecuteTime": {
     "end_time": "2023-12-15T21:21:01.990546Z",
     "start_time": "2023-12-15T21:21:01.917853Z"
    }
   },
   "id": "d1a6739d7144ea9d"
  },
  {
   "cell_type": "markdown",
   "source": [
    "Does the average calorie count adequately reflect the distribution of the dataset? Let’s sort the data and see.\n",
    "\n",
    "Sort the data and save the result to the variable calorie_stats_sorted. Print the sorted data to the terminal."
   ],
   "metadata": {
    "collapsed": false
   },
   "id": "150c25493ecdf40a"
  },
  {
   "cell_type": "code",
   "execution_count": 4,
   "outputs": [
    {
     "name": "stdout",
     "output_type": "stream",
     "text": [
      "[ 50.  50.  50.  70.  70.  80.  90.  90.  90.  90.  90.  90.  90. 100.\n",
      " 100. 100. 100. 100. 100. 100. 100. 100. 100. 100. 100. 100. 100. 100.\n",
      " 100. 100. 110. 110. 110. 110. 110. 110. 110. 110. 110. 110. 110. 110.\n",
      " 110. 110. 110. 110. 110. 110. 110. 110. 110. 110. 110. 110. 110. 110.\n",
      " 110. 110. 110. 120. 120. 120. 120. 120. 120. 120. 120. 120. 120. 130.\n",
      " 130. 140. 140. 140. 150. 150. 160.]\n"
     ]
    }
   ],
   "source": [
    "calorie_stats_sorted = np.sort(calorie_stats)\n",
    "print(calorie_stats_sorted)"
   ],
   "metadata": {
    "collapsed": false,
    "ExecuteTime": {
     "end_time": "2023-12-15T21:21:02.104816Z",
     "start_time": "2023-12-15T21:21:01.939968Z"
    }
   },
   "id": "913a610e25b80493"
  },
  {
   "cell_type": "markdown",
   "source": [
    "Do you see what I’m seeing? Looks like the majority of the cereals are higher than the mean. Let’s see if the median is a better representative of the dataset.\n",
    "\n",
    "Calculate the median of the dataset and save your answer to median_calories. Print the median so you can see how it compares to the mean."
   ],
   "metadata": {
    "collapsed": false
   },
   "id": "d16110f92e976f7d"
  },
  {
   "cell_type": "code",
   "execution_count": 5,
   "outputs": [
    {
     "name": "stdout",
     "output_type": "stream",
     "text": [
      "110.0\n"
     ]
    }
   ],
   "source": [
    "median_calories = np.median(calorie_stats)\n",
    "print(median_calories)"
   ],
   "metadata": {
    "collapsed": false,
    "ExecuteTime": {
     "end_time": "2023-12-15T21:21:02.107104Z",
     "start_time": "2023-12-15T21:21:01.972294Z"
    }
   },
   "id": "c7c23777672ebe9f"
  },
  {
   "cell_type": "markdown",
   "source": [
    "While the median demonstrates that at least half of our values are over 100 calories, it would be more impressive to show that a significant portion of the competition has a higher calorie count that CrunchieMunchies.\n",
    "\n",
    "Calculate different percentiles and print them to the terminal until you find the lowest percentile that is greater than 60 calories. Save this value to the variable nth_percentile."
   ],
   "metadata": {
    "collapsed": false
   },
   "id": "42ecd8e4a3ea49dd"
  },
  {
   "cell_type": "code",
   "execution_count": 6,
   "outputs": [
    {
     "name": "stdout",
     "output_type": "stream",
     "text": [
      "55.599999999999994\n"
     ]
    }
   ],
   "source": [
    "nth_percentile = np.percentile(calorie_stats, 3)\n",
    "print(nth_percentile)"
   ],
   "metadata": {
    "collapsed": false,
    "ExecuteTime": {
     "end_time": "2023-12-15T21:21:02.219894Z",
     "start_time": "2023-12-15T21:21:02.002123Z"
    }
   },
   "id": "b543e8509f631d3b"
  },
  {
   "cell_type": "markdown",
   "source": [
    "While the percentile shows us that the majority of the competition has a much higher calorie count, it’s an awkward concept to use in marketing materials.\n",
    "\n",
    "Instead, let’s calculate the percentage of cereals that have more than 60 calories per serving. Save your answer to the variable more_calories and print it to the terminal."
   ],
   "metadata": {
    "collapsed": false
   },
   "id": "5e87f6b7f1f0a043"
  },
  {
   "cell_type": "code",
   "execution_count": 7,
   "outputs": [
    {
     "name": "stdout",
     "output_type": "stream",
     "text": [
      "0.961038961038961\n"
     ]
    }
   ],
   "source": [
    "more_calories = np.mean(calorie_stats > 60)\n",
    "print(more_calories)"
   ],
   "metadata": {
    "collapsed": false,
    "ExecuteTime": {
     "end_time": "2023-12-15T21:21:02.221324Z",
     "start_time": "2023-12-15T21:21:02.026828Z"
    }
   },
   "id": "939395a7fc03d3e4"
  },
  {
   "cell_type": "markdown",
   "source": [
    "Wow! That’s a really high percentage. That’s going to be very useful when we promote CrunchieMunchies. But one question is, how much variation exists in the dataset? Can we make the generalization that most cereals have around 100 calories or is the spread even greater?\n",
    "\n",
    "Calculate the amount of variation by finding the standard deviation. Save your answer to calorie_std and print to the terminal. How can we incorporate this value into our analysis?"
   ],
   "metadata": {
    "collapsed": false
   },
   "id": "e9e35c8385a47d0d"
  },
  {
   "cell_type": "code",
   "execution_count": 8,
   "outputs": [
    {
     "name": "stdout",
     "output_type": "stream",
     "text": [
      "19.35718533390827\n"
     ]
    }
   ],
   "source": [
    "calorie_std = np.std(calorie_stats)\n",
    "print(calorie_std)"
   ],
   "metadata": {
    "collapsed": false,
    "ExecuteTime": {
     "end_time": "2023-12-15T21:21:02.222594Z",
     "start_time": "2023-12-15T21:21:02.064149Z"
    }
   },
   "id": "e11da14872d7b3c0"
  },
  {
   "cell_type": "markdown",
   "source": [
    "Write a short paragraph that sums up your findings and how you think this data could be used to Yummy Corp’s advantage when marketing CrunchieMunchies."
   ],
   "metadata": {
    "collapsed": false
   },
   "id": "fce21f9629a8b197"
  },
  {
   "cell_type": "markdown",
   "source": [
    "- This file cereal.csv contains the reported calorie amounts for different cereal brands.\n",
    "- There are 77 data stored, the average calories of the dataset is 106.88, and the median is 110. There is no significant outliers in the set, thus the median values is similar to the mean. \n",
    "- Only the 3th percentile of the dataset holds calories below 60. The calories surpassed 60 represents 96% of the total data.\n",
    "- Though the spread of data is significant with std deviation of 19.36\n",
    "\n",
    "#### Conclusion\n",
    "The research shows that 96% of the cereal brands contains more than 60 calories in box. It is recommended the corporation adjust the level of sugars in some of theiroptions in order to reduce the average calorie index.   "
   ],
   "metadata": {
    "collapsed": false
   },
   "id": "cb666627ce2362bc"
  }
 ],
 "metadata": {
  "kernelspec": {
   "display_name": "Python 3",
   "language": "python",
   "name": "python3"
  },
  "language_info": {
   "codemirror_mode": {
    "name": "ipython",
    "version": 2
   },
   "file_extension": ".py",
   "mimetype": "text/x-python",
   "name": "python",
   "nbconvert_exporter": "python",
   "pygments_lexer": "ipython2",
   "version": "2.7.6"
  }
 },
 "nbformat": 4,
 "nbformat_minor": 5
}
